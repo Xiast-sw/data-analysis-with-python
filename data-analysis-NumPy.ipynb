{
 "cells": [
  {
   "cell_type": "markdown",
   "id": "fdba20e2",
   "metadata": {},
   "source": [
    "<h3>NumPy<h3>"
   ]
  },
  {
   "cell_type": "code",
   "execution_count": null,
   "id": "9393e60e",
   "metadata": {},
   "outputs": [],
   "source": [
    "import numpy as np"
   ]
  },
  {
   "cell_type": "markdown",
   "id": "2c080e84",
   "metadata": {},
   "source": [
    "Dizi oluşturalım 2 tane"
   ]
  },
  {
   "cell_type": "code",
   "execution_count": null,
   "id": "5972a407",
   "metadata": {},
   "outputs": [],
   "source": [
    "x = np.array([ 5, 8, 17])\n",
    "print(x)"
   ]
  },
  {
   "cell_type": "code",
   "execution_count": null,
   "id": "549f54fa",
   "metadata": {},
   "outputs": [],
   "source": [
    "y = np.array([[2,13,30],[6,11,22]])\n",
    "print(y)"
   ]
  },
  {
   "cell_type": "markdown",
   "id": "180e0b14",
   "metadata": {},
   "source": [
    "dizi boyutu ögrenme(ndim)"
   ]
  },
  {
   "cell_type": "code",
   "execution_count": null,
   "id": "ed693365",
   "metadata": {},
   "outputs": [],
   "source": [
    "x.ndim"
   ]
  },
  {
   "cell_type": "code",
   "execution_count": null,
   "id": "06c78206",
   "metadata": {},
   "outputs": [],
   "source": [
    "y.ndim"
   ]
  },
  {
   "cell_type": "markdown",
   "id": "4fdb57c8",
   "metadata": {},
   "source": [
    "Satır sütun sayılarını öğrenme(shape)"
   ]
  },
  {
   "cell_type": "code",
   "execution_count": null,
   "id": "d39b0759",
   "metadata": {},
   "outputs": [],
   "source": [
    "y.shape"
   ]
  },
  {
   "cell_type": "code",
   "execution_count": null,
   "id": "8fce7d5f",
   "metadata": {},
   "outputs": [],
   "source": [
    "x.shape"
   ]
  },
  {
   "cell_type": "markdown",
   "id": "feaffb31",
   "metadata": {},
   "source": [
    "Dizinin istenilen hücresine erişme [2.satır,3.sütun] (0'dan başlayacağı için 1 eksiğini yazıyoruz)"
   ]
  },
  {
   "cell_type": "code",
   "execution_count": null,
   "id": "24b4b4b9",
   "metadata": {},
   "outputs": [],
   "source": [
    "y[1,2]"
   ]
  },
  {
   "cell_type": "markdown",
   "id": "9c491767",
   "metadata": {},
   "source": [
    "Direkt satır ulaşmak için"
   ]
  },
  {
   "cell_type": "code",
   "execution_count": null,
   "id": "fc97bd24",
   "metadata": {},
   "outputs": [],
   "source": [
    "y[1]"
   ]
  },
  {
   "cell_type": "markdown",
   "id": "25702a1e",
   "metadata": {},
   "source": [
    "1. satırdaki 2. sutun ve 1. satır 3.sütun ulaşmak için"
   ]
  },
  {
   "cell_type": "code",
   "execution_count": null,
   "id": "70a093b9",
   "metadata": {},
   "outputs": [],
   "source": [
    "y[0,1:]"
   ]
  },
  {
   "cell_type": "markdown",
   "id": "3cda69ab",
   "metadata": {},
   "source": [
    "Hücrenin içindeki sayıyı değiştirme"
   ]
  },
  {
   "cell_type": "code",
   "execution_count": null,
   "id": "094c5072",
   "metadata": {},
   "outputs": [],
   "source": [
    "y[0,1]=20\n",
    "y[0,1]"
   ]
  },
  {
   "cell_type": "code",
   "execution_count": null,
   "id": "b0063c92",
   "metadata": {},
   "outputs": [],
   "source": []
  }
 ],
 "metadata": {
  "kernelspec": {
   "display_name": "Python 3 (ipykernel)",
   "language": "python",
   "name": "python3"
  },
  "language_info": {
   "codemirror_mode": {
    "name": "ipython",
    "version": 3
   },
   "file_extension": ".py",
   "mimetype": "text/x-python",
   "name": "python",
   "nbconvert_exporter": "python",
   "pygments_lexer": "ipython3",
   "version": "3.9.13"
  }
 },
 "nbformat": 4,
 "nbformat_minor": 5
}
