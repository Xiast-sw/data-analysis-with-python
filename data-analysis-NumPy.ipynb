{
 "cells": [
  {
   "cell_type": "markdown",
   "id": "fdba20e2",
   "metadata": {},
   "source": [
    "<h3>NumPy<h3>"
   ]
  },
  {
   "cell_type": "code",
   "execution_count": null,
   "id": "9393e60e",
   "metadata": {},
   "outputs": [],
   "source": [
    "import numpy as np"
   ]
  },
  {
   "cell_type": "markdown",
   "id": "2c080e84",
   "metadata": {},
   "source": [
    "Dizi oluşturalım 2 tane"
   ]
  },
  {
   "cell_type": "code",
   "execution_count": null,
   "id": "5972a407",
   "metadata": {},
   "outputs": [],
   "source": [
    "x = np.array([ 5, 8, 17])\n",
    "print(x)"
   ]
  },
  {
   "cell_type": "code",
   "execution_count": null,
   "id": "549f54fa",
   "metadata": {},
   "outputs": [],
   "source": [
    "y = np.array([[2,13,30],[6,11,22]])\n",
    "print(y)"
   ]
  },
  {
   "cell_type": "markdown",
   "id": "180e0b14",
   "metadata": {},
   "source": [
    "dizi boyutu ögrenme(ndim)"
   ]
  },
  {
   "cell_type": "code",
   "execution_count": null,
   "id": "ed693365",
   "metadata": {},
   "outputs": [],
   "source": [
    "x.ndim"
   ]
  },
  {
   "cell_type": "code",
   "execution_count": null,
   "id": "06c78206",
   "metadata": {},
   "outputs": [],
   "source": [
    "y.ndim"
   ]
  },
  {
   "cell_type": "markdown",
   "id": "4fdb57c8",
   "metadata": {},
   "source": [
    "Satır sütun sayılarını öğrenme(shape)"
   ]
  },
  {
   "cell_type": "code",
   "execution_count": null,
   "id": "d39b0759",
   "metadata": {},
   "outputs": [],
   "source": [
    "y.shape"
   ]
  },
  {
   "cell_type": "code",
   "execution_count": null,
   "id": "8fce7d5f",
   "metadata": {},
   "outputs": [],
   "source": [
    "x.shape"
   ]
  },
  {
   "cell_type": "markdown",
   "id": "feaffb31",
   "metadata": {},
   "source": [
    "Dizinin istenilen hücresine erişme [2.satır,3.sütun] (0'dan başlayacağı için 1 eksiğini yazıyoruz)"
   ]
  },
  {
   "cell_type": "code",
   "execution_count": null,
   "id": "24b4b4b9",
   "metadata": {},
   "outputs": [],
   "source": [
    "y[1,2]"
   ]
  },
  {
   "cell_type": "markdown",
   "id": "9c491767",
   "metadata": {},
   "source": [
    "Direkt satır ulaşmak için"
   ]
  },
  {
   "cell_type": "code",
   "execution_count": null,
   "id": "fc97bd24",
   "metadata": {},
   "outputs": [],
   "source": [
    "y[1]"
   ]
  },
  {
   "cell_type": "markdown",
   "id": "25702a1e",
   "metadata": {},
   "source": [
    "1. satırdaki 2. sutun ve 1. satır 3.sütun ulaşmak için"
   ]
  },
  {
   "cell_type": "code",
   "execution_count": null,
   "id": "70a093b9",
   "metadata": {},
   "outputs": [],
   "source": [
    "y[0,1:]"
   ]
  },
  {
   "cell_type": "markdown",
   "id": "3cda69ab",
   "metadata": {},
   "source": [
    "Hücrenin içindeki sayıyı değiştirme"
   ]
  },
  {
   "cell_type": "code",
   "execution_count": null,
   "id": "094c5072",
   "metadata": {},
   "outputs": [],
   "source": [
    "y[0,1]=20\n",
    "y[0,1]"
   ]
  },
  {
   "cell_type": "markdown",
   "id": "7158fab6",
   "metadata": {},
   "source": [
    "<h4>Otomatik dizi oluşturma<h4>"
   ]
  },
  {
   "cell_type": "markdown",
   "id": "e348c6eb",
   "metadata": {},
   "source": [
    "Hepsi sıfır olan 3x4 matris "
   ]
  },
  {
   "cell_type": "code",
   "execution_count": 34,
   "id": "63bfe241",
   "metadata": {},
   "outputs": [
    {
     "data": {
      "text/plain": [
       "array([[0., 0., 0., 0.],\n",
       "       [0., 0., 0., 0.],\n",
       "       [0., 0., 0., 0.]])"
      ]
     },
     "execution_count": 34,
     "metadata": {},
     "output_type": "execute_result"
    }
   ],
   "source": [
    "matrisZ=np.zeros((3,4))\n",
    "matrisZ"
   ]
  },
  {
   "cell_type": "markdown",
   "id": "9a97e25d",
   "metadata": {},
   "source": [
    "Hepsi aynı olan 2x4 lük matris"
   ]
  },
  {
   "cell_type": "code",
   "execution_count": 35,
   "id": "5e0f9c48",
   "metadata": {},
   "outputs": [
    {
     "data": {
      "text/plain": [
       "array([[8, 8, 8, 8],\n",
       "       [8, 8, 8, 8]])"
      ]
     },
     "execution_count": 35,
     "metadata": {},
     "output_type": "execute_result"
    }
   ],
   "source": [
    "matrisO=np.full((2,4),8)\n",
    "matrisO"
   ]
  },
  {
   "cell_type": "markdown",
   "id": "ce80d34e",
   "metadata": {},
   "source": [
    "Ramdom matris oluşturma float"
   ]
  },
  {
   "cell_type": "code",
   "execution_count": 36,
   "id": "f613c087",
   "metadata": {},
   "outputs": [
    {
     "data": {
      "text/plain": [
       "array([[0.573993  , 0.69276874, 0.99680492]])"
      ]
     },
     "execution_count": 36,
     "metadata": {},
     "output_type": "execute_result"
    }
   ],
   "source": [
    "matrisRnd=np.random.rand(1,3)\n",
    "matrisRnd"
   ]
  },
  {
   "cell_type": "markdown",
   "id": "a0711a9e",
   "metadata": {},
   "source": [
    "random 0 50 arası integer matris oluşturma"
   ]
  },
  {
   "cell_type": "code",
   "execution_count": 38,
   "id": "205adf2d",
   "metadata": {},
   "outputs": [
    {
     "data": {
      "text/plain": [
       "array([[ 7, 39, 11],\n",
       "       [37, 45,  4]])"
      ]
     },
     "execution_count": 38,
     "metadata": {},
     "output_type": "execute_result"
    }
   ],
   "source": [
    "matrisRndint=np.random.randint(0,50,size=(2,3))\n",
    "matrisRndint"
   ]
  },
  {
   "cell_type": "markdown",
   "id": "efc20458",
   "metadata": {},
   "source": [
    "Dizi kopyalama"
   ]
  },
  {
   "cell_type": "code",
   "execution_count": 39,
   "id": "b41ef06a",
   "metadata": {},
   "outputs": [
    {
     "name": "stdout",
     "output_type": "stream",
     "text": [
      "[3 5 8]\n"
     ]
    }
   ],
   "source": [
    "a=np.array([3,5,8])\n",
    "b=a.copy()\n",
    "b[1]=12\n",
    "print(a)"
   ]
  },
  {
   "cell_type": "code",
   "execution_count": 40,
   "id": "257b3435",
   "metadata": {},
   "outputs": [
    {
     "name": "stdout",
     "output_type": "stream",
     "text": [
      "[ 3 12  8]\n"
     ]
    }
   ],
   "source": [
    "print(b)"
   ]
  },
  {
   "cell_type": "markdown",
   "id": "bfcd6239",
   "metadata": {},
   "source": [
    "Matrisde Matematik işlemleri"
   ]
  },
  {
   "cell_type": "code",
   "execution_count": 43,
   "id": "806e8490",
   "metadata": {},
   "outputs": [
    {
     "data": {
      "text/plain": [
       "array([ 3,  6,  8, 10])"
      ]
     },
     "execution_count": 43,
     "metadata": {},
     "output_type": "execute_result"
    }
   ],
   "source": [
    "a=np.array([2,5,7,9])\n",
    "a+1"
   ]
  },
  {
   "cell_type": "code",
   "execution_count": 44,
   "id": "d78b1903",
   "metadata": {},
   "outputs": [
    {
     "data": {
      "text/plain": [
       "array([ 4, 10, 14, 18])"
      ]
     },
     "execution_count": 44,
     "metadata": {},
     "output_type": "execute_result"
    }
   ],
   "source": [
    "a*2"
   ]
  },
  {
   "cell_type": "code",
   "execution_count": 45,
   "id": "8971353e",
   "metadata": {},
   "outputs": [
    {
     "data": {
      "text/plain": [
       "array([1. , 2.5, 3.5, 4.5])"
      ]
     },
     "execution_count": 45,
     "metadata": {},
     "output_type": "execute_result"
    }
   ],
   "source": [
    "a/2"
   ]
  },
  {
   "cell_type": "code",
   "execution_count": 47,
   "id": "86049576",
   "metadata": {},
   "outputs": [
    {
     "data": {
      "text/plain": [
       "array([ 4, 25, 49, 81], dtype=int32)"
      ]
     },
     "execution_count": 47,
     "metadata": {},
     "output_type": "execute_result"
    }
   ],
   "source": [
    "a**2"
   ]
  },
  {
   "cell_type": "code",
   "execution_count": 48,
   "id": "bcb424d7",
   "metadata": {},
   "outputs": [
    {
     "data": {
      "text/plain": [
       "array([ 6, 16, 21, 26])"
      ]
     },
     "execution_count": 48,
     "metadata": {},
     "output_type": "execute_result"
    }
   ],
   "source": [
    "b=np.array([4,11,14,17])\n",
    "a+b"
   ]
  },
  {
   "cell_type": "markdown",
   "id": "32928705",
   "metadata": {},
   "source": [
    "<h4>İstatistik<h4>"
   ]
  },
  {
   "cell_type": "code",
   "execution_count": null,
   "id": "1801e70c",
   "metadata": {},
   "outputs": [],
   "source": []
  }
 ],
 "metadata": {
  "kernelspec": {
   "display_name": "Python 3 (ipykernel)",
   "language": "python",
   "name": "python3"
  },
  "language_info": {
   "codemirror_mode": {
    "name": "ipython",
    "version": 3
   },
   "file_extension": ".py",
   "mimetype": "text/x-python",
   "name": "python",
   "nbconvert_exporter": "python",
   "pygments_lexer": "ipython3",
   "version": "3.9.13"
  }
 },
 "nbformat": 4,
 "nbformat_minor": 5
}
