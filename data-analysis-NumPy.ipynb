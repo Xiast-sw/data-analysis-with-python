{
 "cells": [
  {
   "cell_type": "markdown",
   "id": "fdba20e2",
   "metadata": {},
   "source": [
    "<h3>NumPy<h3>"
   ]
  },
  {
   "cell_type": "code",
   "execution_count": 112,
   "id": "9393e60e",
   "metadata": {},
   "outputs": [],
   "source": [
    "import numpy as np"
   ]
  },
  {
   "cell_type": "markdown",
   "id": "2c080e84",
   "metadata": {},
   "source": [
    "Dizi oluşturalım 2 tane"
   ]
  },
  {
   "cell_type": "code",
   "execution_count": 113,
   "id": "5972a407",
   "metadata": {},
   "outputs": [
    {
     "name": "stdout",
     "output_type": "stream",
     "text": [
      "[ 5  8 17]\n"
     ]
    }
   ],
   "source": [
    "x = np.array([ 5, 8, 17])\n",
    "print(x)"
   ]
  },
  {
   "cell_type": "code",
   "execution_count": 114,
   "id": "549f54fa",
   "metadata": {},
   "outputs": [
    {
     "name": "stdout",
     "output_type": "stream",
     "text": [
      "[[ 2 13 30]\n",
      " [ 6 11 22]]\n"
     ]
    }
   ],
   "source": [
    "y = np.array([[2,13,30],[6,11,22]])\n",
    "print(y)"
   ]
  },
  {
   "cell_type": "markdown",
   "id": "180e0b14",
   "metadata": {},
   "source": [
    "dizi boyutu ögrenme(ndim)"
   ]
  },
  {
   "cell_type": "code",
   "execution_count": 115,
   "id": "ed693365",
   "metadata": {},
   "outputs": [
    {
     "data": {
      "text/plain": [
       "1"
      ]
     },
     "execution_count": 115,
     "metadata": {},
     "output_type": "execute_result"
    }
   ],
   "source": [
    "x.ndim"
   ]
  },
  {
   "cell_type": "code",
   "execution_count": 116,
   "id": "06c78206",
   "metadata": {},
   "outputs": [
    {
     "data": {
      "text/plain": [
       "2"
      ]
     },
     "execution_count": 116,
     "metadata": {},
     "output_type": "execute_result"
    }
   ],
   "source": [
    "y.ndim"
   ]
  },
  {
   "cell_type": "markdown",
   "id": "4fdb57c8",
   "metadata": {},
   "source": [
    "Satır sütun sayılarını öğrenme(shape)"
   ]
  },
  {
   "cell_type": "code",
   "execution_count": 117,
   "id": "d39b0759",
   "metadata": {},
   "outputs": [
    {
     "data": {
      "text/plain": [
       "(2, 3)"
      ]
     },
     "execution_count": 117,
     "metadata": {},
     "output_type": "execute_result"
    }
   ],
   "source": [
    "y.shape"
   ]
  },
  {
   "cell_type": "code",
   "execution_count": 118,
   "id": "8fce7d5f",
   "metadata": {},
   "outputs": [
    {
     "data": {
      "text/plain": [
       "(3,)"
      ]
     },
     "execution_count": 118,
     "metadata": {},
     "output_type": "execute_result"
    }
   ],
   "source": [
    "x.shape"
   ]
  },
  {
   "cell_type": "markdown",
   "id": "feaffb31",
   "metadata": {},
   "source": [
    "Dizinin istenilen hücresine erişme [2.satır,3.sütun] (0'dan başlayacağı için 1 eksiğini yazıyoruz)"
   ]
  },
  {
   "cell_type": "code",
   "execution_count": 119,
   "id": "24b4b4b9",
   "metadata": {},
   "outputs": [
    {
     "data": {
      "text/plain": [
       "22"
      ]
     },
     "execution_count": 119,
     "metadata": {},
     "output_type": "execute_result"
    }
   ],
   "source": [
    "y[1,2]"
   ]
  },
  {
   "cell_type": "markdown",
   "id": "9c491767",
   "metadata": {},
   "source": [
    "Direkt satır ulaşmak için"
   ]
  },
  {
   "cell_type": "code",
   "execution_count": 120,
   "id": "fc97bd24",
   "metadata": {},
   "outputs": [
    {
     "data": {
      "text/plain": [
       "array([ 6, 11, 22])"
      ]
     },
     "execution_count": 120,
     "metadata": {},
     "output_type": "execute_result"
    }
   ],
   "source": [
    "y[1]"
   ]
  },
  {
   "cell_type": "markdown",
   "id": "25702a1e",
   "metadata": {},
   "source": [
    "1. satırdaki 2. sutun ve 1. satır 3.sütun ulaşmak için"
   ]
  },
  {
   "cell_type": "code",
   "execution_count": 121,
   "id": "70a093b9",
   "metadata": {},
   "outputs": [
    {
     "data": {
      "text/plain": [
       "array([13, 30])"
      ]
     },
     "execution_count": 121,
     "metadata": {},
     "output_type": "execute_result"
    }
   ],
   "source": [
    "y[0,1:]"
   ]
  },
  {
   "cell_type": "markdown",
   "id": "3cda69ab",
   "metadata": {},
   "source": [
    "Hücrenin içindeki sayıyı değiştirme"
   ]
  },
  {
   "cell_type": "code",
   "execution_count": 122,
   "id": "094c5072",
   "metadata": {},
   "outputs": [
    {
     "data": {
      "text/plain": [
       "20"
      ]
     },
     "execution_count": 122,
     "metadata": {},
     "output_type": "execute_result"
    }
   ],
   "source": [
    "y[0,1]=20\n",
    "y[0,1]"
   ]
  },
  {
   "cell_type": "markdown",
   "id": "bbeee0b3",
   "metadata": {},
   "source": [
    "<h4>Otomatik dizi oluşturma<h4>"
   ]
  },
  {
   "cell_type": "markdown",
   "id": "07901175",
   "metadata": {},
   "source": [
    "Hepsi sıfır olan 3x4 matris "
   ]
  },
  {
   "cell_type": "code",
   "execution_count": 123,
   "id": "ec2245ae",
   "metadata": {},
   "outputs": [
    {
     "data": {
      "text/plain": [
       "array([[0., 0., 0., 0.],\n",
       "       [0., 0., 0., 0.],\n",
       "       [0., 0., 0., 0.]])"
      ]
     },
     "execution_count": 123,
     "metadata": {},
     "output_type": "execute_result"
    }
   ],
   "source": [
    "matrisZ=np.zeros((3,4))\n",
    "matrisZ"
   ]
  },
  {
   "cell_type": "markdown",
   "id": "83340bb4",
   "metadata": {},
   "source": [
    "Hepsi aynı olan 2x4 lük matris"
   ]
  },
  {
   "cell_type": "code",
   "execution_count": 124,
   "id": "4bf03a2b",
   "metadata": {},
   "outputs": [
    {
     "data": {
      "text/plain": [
       "array([[8, 8, 8, 8],\n",
       "       [8, 8, 8, 8]])"
      ]
     },
     "execution_count": 124,
     "metadata": {},
     "output_type": "execute_result"
    }
   ],
   "source": [
    "matrisO=np.full((2,4),8)\n",
    "matrisO"
   ]
  },
  {
   "cell_type": "markdown",
   "id": "e07820f1",
   "metadata": {},
   "source": [
    "Ramdom matris oluşturma float"
   ]
  },
  {
   "cell_type": "code",
   "execution_count": 125,
   "id": "d7324a04",
   "metadata": {},
   "outputs": [
    {
     "data": {
      "text/plain": [
       "array([[0.55595885, 0.56070989, 0.22850884]])"
      ]
     },
     "execution_count": 125,
     "metadata": {},
     "output_type": "execute_result"
    }
   ],
   "source": [
    "matrisRnd=np.random.rand(1,3)\n",
    "matrisRnd"
   ]
  },
  {
   "cell_type": "markdown",
   "id": "5de6d60f",
   "metadata": {},
   "source": [
    "random 0 50 arası integer matris oluşturma"
   ]
  },
  {
   "cell_type": "code",
   "execution_count": 126,
   "id": "1c34f0a1",
   "metadata": {},
   "outputs": [
    {
     "data": {
      "text/plain": [
       "array([[12, 15, 46],\n",
       "       [18, 31, 18]])"
      ]
     },
     "execution_count": 126,
     "metadata": {},
     "output_type": "execute_result"
    }
   ],
   "source": [
    "matrisRndint=np.random.randint(0,50,size=(2,3))\n",
    "matrisRndint"
   ]
  },
  {
   "cell_type": "markdown",
   "id": "a3cbcfd5",
   "metadata": {},
   "source": [
    "Dizi kopyalama"
   ]
  },
  {
   "cell_type": "code",
   "execution_count": 127,
   "id": "91b7bae6",
   "metadata": {},
   "outputs": [
    {
     "name": "stdout",
     "output_type": "stream",
     "text": [
      "[3 5 8]\n"
     ]
    }
   ],
   "source": [
    "a=np.array([3,5,8])\n",
    "b=a.copy()\n",
    "b[1]=12\n",
    "print(a)"
   ]
  },
  {
   "cell_type": "code",
   "execution_count": 128,
   "id": "4fc92ead",
   "metadata": {},
   "outputs": [
    {
     "name": "stdout",
     "output_type": "stream",
     "text": [
      "[ 3 12  8]\n"
     ]
    }
   ],
   "source": [
    "print(b)"
   ]
  },
  {
   "cell_type": "markdown",
   "id": "08a6d33d",
   "metadata": {},
   "source": [
    "Matrisde Matematik işlemleri"
   ]
  },
  {
   "cell_type": "code",
   "execution_count": 129,
   "id": "e980b7dd",
   "metadata": {},
   "outputs": [
    {
     "data": {
      "text/plain": [
       "array([ 3,  6,  8, 10])"
      ]
     },
     "execution_count": 129,
     "metadata": {},
     "output_type": "execute_result"
    }
   ],
   "source": [
    "a=np.array([2,5,7,9])\n",
    "a+1"
   ]
  },
  {
   "cell_type": "code",
   "execution_count": 130,
   "id": "4013cc36",
   "metadata": {},
   "outputs": [
    {
     "data": {
      "text/plain": [
       "array([ 4, 10, 14, 18])"
      ]
     },
     "execution_count": 130,
     "metadata": {},
     "output_type": "execute_result"
    }
   ],
   "source": [
    "a*2"
   ]
  },
  {
   "cell_type": "code",
   "execution_count": 131,
   "id": "f55e47e7",
   "metadata": {},
   "outputs": [
    {
     "data": {
      "text/plain": [
       "array([1. , 2.5, 3.5, 4.5])"
      ]
     },
     "execution_count": 131,
     "metadata": {},
     "output_type": "execute_result"
    }
   ],
   "source": [
    "a/2"
   ]
  },
  {
   "cell_type": "code",
   "execution_count": 132,
   "id": "ddda7ec9",
   "metadata": {},
   "outputs": [
    {
     "data": {
      "text/plain": [
       "array([ 4, 25, 49, 81], dtype=int32)"
      ]
     },
     "execution_count": 132,
     "metadata": {},
     "output_type": "execute_result"
    }
   ],
   "source": [
    "a**2"
   ]
  },
  {
   "cell_type": "code",
   "execution_count": 133,
   "id": "85173235",
   "metadata": {},
   "outputs": [
    {
     "data": {
      "text/plain": [
       "array([ 6, 16, 21, 26])"
      ]
     },
     "execution_count": 133,
     "metadata": {},
     "output_type": "execute_result"
    }
   ],
   "source": [
    "b=np.array([4,11,14,17])\n",
    "a+b"
   ]
  },
  {
   "cell_type": "markdown",
   "id": "bf7bbda7",
   "metadata": {},
   "source": [
    "<h4>İstatistik<h4>"
   ]
  },
  {
   "cell_type": "code",
   "execution_count": 134,
   "id": "40d0dbf4",
   "metadata": {},
   "outputs": [
    {
     "data": {
      "text/plain": [
       "array([[1, 2, 3],\n",
       "       [4, 5, 6]])"
      ]
     },
     "execution_count": 134,
     "metadata": {},
     "output_type": "execute_result"
    }
   ],
   "source": [
    "dizis=np.array([[1,2,3],[4,5,6]])\n",
    "dizis"
   ]
  },
  {
   "cell_type": "markdown",
   "id": "fdea021c",
   "metadata": {},
   "source": [
    "Matrisdeki minimum maximum sayıyı bulma ve sayıların toplamı"
   ]
  },
  {
   "cell_type": "code",
   "execution_count": 135,
   "id": "8e528cc7",
   "metadata": {},
   "outputs": [
    {
     "data": {
      "text/plain": [
       "1"
      ]
     },
     "execution_count": 135,
     "metadata": {},
     "output_type": "execute_result"
    }
   ],
   "source": [
    "np.min(dizis)"
   ]
  },
  {
   "cell_type": "code",
   "execution_count": 136,
   "id": "aad5dc52",
   "metadata": {},
   "outputs": [
    {
     "data": {
      "text/plain": [
       "6"
      ]
     },
     "execution_count": 136,
     "metadata": {},
     "output_type": "execute_result"
    }
   ],
   "source": [
    "np.max(dizis)"
   ]
  },
  {
   "cell_type": "code",
   "execution_count": 137,
   "id": "e077f5fb",
   "metadata": {},
   "outputs": [
    {
     "data": {
      "text/plain": [
       "21"
      ]
     },
     "execution_count": 137,
     "metadata": {},
     "output_type": "execute_result"
    }
   ],
   "source": [
    "np.sum(dizis)"
   ]
  },
  {
   "cell_type": "markdown",
   "id": "2499b634",
   "metadata": {},
   "source": [
    "Dosyadan yükleme .txt uzantılı"
   ]
  },
  {
   "cell_type": "code",
   "execution_count": 138,
   "id": "5702c224",
   "metadata": {},
   "outputs": [
    {
     "name": "stdout",
     "output_type": "stream",
     "text": [
      "[[ 3  5  6]\n",
      " [ 5  7 11]]\n"
     ]
    }
   ],
   "source": [
    "filedata=np.genfromtxt('Matris.txt',delimiter=',')\n",
    "filedata=filedata.astype('int32')\n",
    "print(filedata)"
   ]
  },
  {
   "cell_type": "code",
   "execution_count": 139,
   "id": "65f8c261",
   "metadata": {},
   "outputs": [
    {
     "data": {
      "text/plain": [
       "3"
      ]
     },
     "execution_count": 139,
     "metadata": {},
     "output_type": "execute_result"
    }
   ],
   "source": [
    "filedata[0,0]"
   ]
  },
  {
   "cell_type": "code",
   "execution_count": null,
   "id": "d44d88f1",
   "metadata": {},
   "outputs": [],
   "source": []
  }
 ],
 "metadata": {
  "kernelspec": {
   "display_name": "Python 3 (ipykernel)",
   "language": "python",
   "name": "python3"
  },
  "language_info": {
   "codemirror_mode": {
    "name": "ipython",
    "version": 3
   },
   "file_extension": ".py",
   "mimetype": "text/x-python",
   "name": "python",
   "nbconvert_exporter": "python",
   "pygments_lexer": "ipython3",
   "version": "3.9.13"
  }
 },
 "nbformat": 4,
 "nbformat_minor": 5
}
