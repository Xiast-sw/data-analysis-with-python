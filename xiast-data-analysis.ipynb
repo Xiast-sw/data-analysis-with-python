{
 "cells": [
  {
   "cell_type": "code",
   "execution_count": null,
   "id": "92c9851d",
   "metadata": {},
   "outputs": [],
   "source": [
    "import pandas as pd"
   ]
  },
  {
   "cell_type": "markdown",
   "id": "4e3adad8",
   "metadata": {},
   "source": [
    "Pandas kütüphanesini import ettikten sonra kaggle'dan indirdiğimiz imdb top 1000 film veri setini dataframe değişkeninin içine tanımlayalım."
   ]
  },
  {
   "cell_type": "code",
   "execution_count": null,
   "id": "f58dc221",
   "metadata": {},
   "outputs": [],
   "source": [
    "df = pd.read_csv(\"imdb_top_1000.csv\")"
   ]
  },
  {
   "cell_type": "markdown",
   "id": "39f7661d",
   "metadata": {},
   "source": [
    "Dataframe'in ilk 3 satırını görüntüleme:"
   ]
  },
  {
   "cell_type": "code",
   "execution_count": null,
   "id": "e2930812",
   "metadata": {},
   "outputs": [],
   "source": [
    "df.head(3)"
   ]
  },
  {
   "cell_type": "markdown",
   "id": "0c7e63eb",
   "metadata": {},
   "source": [
    "Poster_Link Sutununu silelim:"
   ]
  },
  {
   "cell_type": "code",
   "execution_count": null,
   "id": "668ccf59",
   "metadata": {},
   "outputs": [],
   "source": [
    "df_new=df.drop('Poster_Link',axis=1)\n",
    "df_new.head()"
   ]
  },
  {
   "cell_type": "markdown",
   "id": "45aa1523",
   "metadata": {},
   "source": [
    "Son 3 satırını getirelim:"
   ]
  },
  {
   "cell_type": "code",
   "execution_count": null,
   "id": "8b0b026c",
   "metadata": {},
   "outputs": [],
   "source": [
    "df.tail(3)"
   ]
  },
  {
   "cell_type": "markdown",
   "id": "636f19b6",
   "metadata": {},
   "source": [
    "Verilerde eksik hücreleri görme:"
   ]
  },
  {
   "cell_type": "code",
   "execution_count": null,
   "id": "e7012cd8",
   "metadata": {},
   "outputs": [],
   "source": [
    "df.isnull()"
   ]
  },
  {
   "cell_type": "markdown",
   "id": "aab7c389",
   "metadata": {},
   "source": [
    "Birden fazla sütun bir değişkene atandığında o değişken de bir dataframe objesi oluyor:"
   ]
  },
  {
   "cell_type": "code",
   "execution_count": null,
   "id": "4cf6b229",
   "metadata": {},
   "outputs": [],
   "source": [
    "df2=df[['Series_Title', 'IMDB_Rating']]\n",
    "df2"
   ]
  },
  {
   "cell_type": "markdown",
   "id": "2bb4c79e",
   "metadata": {},
   "source": [
    "Çıkış yılına göre küçükten büyüğe sıralamak için:"
   ]
  },
  {
   "cell_type": "code",
   "execution_count": null,
   "id": "0327507d",
   "metadata": {},
   "outputs": [],
   "source": [
    "df.sort_values('Released_Year')"
   ]
  },
  {
   "cell_type": "markdown",
   "id": "98712e78",
   "metadata": {},
   "source": [
    "Çıkış yılına göre büyükten küçüğe sıralamak için:"
   ]
  },
  {
   "cell_type": "code",
   "execution_count": null,
   "id": "b8544913",
   "metadata": {
    "scrolled": true
   },
   "outputs": [],
   "source": [
    "df.sort_values(by='Released_Year', ascending=False)"
   ]
  },
  {
   "cell_type": "markdown",
   "id": "52715281",
   "metadata": {},
   "source": [
    "Hangi yılda kaç film çıkmıştır:"
   ]
  },
  {
   "cell_type": "code",
   "execution_count": null,
   "id": "fcf0e642",
   "metadata": {},
   "outputs": [],
   "source": [
    "df['Released_Year'].value_counts()"
   ]
  },
  {
   "cell_type": "markdown",
   "id": "6f94a0fe",
   "metadata": {},
   "source": [
    "<h3>VERİ FİLTRELEME<h3>"
   ]
  },
  {
   "cell_type": "markdown",
   "id": "3f341707",
   "metadata": {},
   "source": [
    "The Dark Knight filminin IMDB Puanını bulalım:"
   ]
  },
  {
   "cell_type": "code",
   "execution_count": null,
   "id": "e91b5beb",
   "metadata": {},
   "outputs": [],
   "source": [
    "df.loc[df['Series_Title']==\"The Dark Knight\"][\"IMDB_Rating\"]"
   ]
  },
  {
   "cell_type": "markdown",
   "id": "1bd605a6",
   "metadata": {},
   "source": [
    "IMDB'den 7.8'in üstünde olan ve 150000'den fazla oy alan filmleri getirelim:"
   ]
  },
  {
   "cell_type": "code",
   "execution_count": null,
   "id": "95e27d6d",
   "metadata": {
    "scrolled": true
   },
   "outputs": [],
   "source": [
    "df.loc[(df['IMDB_Rating']>=7.8) & (df['No_of_Votes']>=150000)]"
   ]
  },
  {
   "cell_type": "markdown",
   "id": "29fadb0d",
   "metadata": {},
   "source": [
    "DataFrame kopyalama"
   ]
  },
  {
   "cell_type": "code",
   "execution_count": null,
   "id": "90a23df3",
   "metadata": {},
   "outputs": [],
   "source": [
    "df_copy=df.copy()\n",
    "df_copy.head()"
   ]
  },
  {
   "cell_type": "markdown",
   "id": "cc11ab3f",
   "metadata": {},
   "source": [
    "Row Drop (satır silme)"
   ]
  },
  {
   "cell_type": "code",
   "execution_count": null,
   "id": "b0681051",
   "metadata": {},
   "outputs": [],
   "source": [
    "df_new2=df.drop([2])\n",
    "df_new2.head()"
   ]
  },
  {
   "cell_type": "markdown",
   "id": "6d590874",
   "metadata": {},
   "source": [
    "<h3>Filtreleme<h3>"
   ]
  },
  {
   "cell_type": "code",
   "execution_count": null,
   "id": "95a84455",
   "metadata": {},
   "outputs": [],
   "source": [
    "df_filtered=df[df['IMDB_Rating']>=9.1]\n",
    "df_filtered"
   ]
  },
  {
   "cell_type": "code",
   "execution_count": null,
   "id": "7d9ce849",
   "metadata": {},
   "outputs": [],
   "source": [
    "df_filtered=df.query('IMDB_Rating>=9.1')\n",
    "df_filtered"
   ]
  },
  {
   "cell_type": "markdown",
   "id": "67a12aa1",
   "metadata": {},
   "source": [
    "runtime veri tipine bakalım"
   ]
  },
  {
   "cell_type": "code",
   "execution_count": null,
   "id": "de2a3152",
   "metadata": {},
   "outputs": [],
   "source": [
    "df.dtypes"
   ]
  },
  {
   "cell_type": "markdown",
   "id": "2083a048",
   "metadata": {},
   "source": [
    "Runtime içinde 140 min gibi veri kullanıldığı için bölüyoruz int ve string olarak"
   ]
  },
  {
   "cell_type": "code",
   "execution_count": null,
   "id": "9acae7c0",
   "metadata": {},
   "outputs": [],
   "source": [
    "f=lambda x:(x[\"Runtime\"].split())[0]\n",
    "df[\"Runtime2\"]=df.apply(f, axis=1)\n",
    "df.head()"
   ]
  },
  {
   "cell_type": "markdown",
   "id": "d15943e6",
   "metadata": {},
   "source": [
    "Runtime2 olarak oluşturduğumuz sutunun veri tipine bakalım"
   ]
  },
  {
   "cell_type": "code",
   "execution_count": null,
   "id": "301b8a4f",
   "metadata": {},
   "outputs": [],
   "source": [
    "df.dtypes"
   ]
  },
  {
   "cell_type": "markdown",
   "id": "a5884a19",
   "metadata": {},
   "source": [
    "runtime2 sutunu obje olarak görülüyor bunu integer olarak değiştireğiz ve 130 dakikadan fazla olan filmlerini listeliycez"
   ]
  },
  {
   "cell_type": "code",
   "execution_count": null,
   "id": "1af9e760",
   "metadata": {},
   "outputs": [],
   "source": [
    "df['Runtime2']=df['Runtime2'].astype('int')\n",
    "df_filtered=df.query(\"Runtime2 >= 130\")\n",
    "df_filtered"
   ]
  },
  {
   "cell_type": "markdown",
   "id": "f4441cfa",
   "metadata": {},
   "source": [
    "Yeni oluşturduğum Runtime2 sutununu silebiliriz artık."
   ]
  },
  {
   "cell_type": "code",
   "execution_count": null,
   "id": "fc27b104",
   "metadata": {},
   "outputs": [],
   "source": [
    "df = df.drop(['Runtime2'], axis=1)\n",
    "df.head()"
   ]
  },
  {
   "cell_type": "code",
   "execution_count": null,
   "id": "6e2f7c91",
   "metadata": {},
   "outputs": [],
   "source": []
  }
 ],
 "metadata": {
  "kernelspec": {
   "display_name": "Python 3 (ipykernel)",
   "language": "python",
   "name": "python3"
  },
  "language_info": {
   "codemirror_mode": {
    "name": "ipython",
    "version": 3
   },
   "file_extension": ".py",
   "mimetype": "text/x-python",
   "name": "python",
   "nbconvert_exporter": "python",
   "pygments_lexer": "ipython3",
   "version": "3.9.13"
  }
 },
 "nbformat": 4,
 "nbformat_minor": 5
}
