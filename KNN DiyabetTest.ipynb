{
 "cells": [
  {
   "cell_type": "markdown",
   "id": "beec88f2",
   "metadata": {},
   "source": [
    "Machine Learning modellerinden KNN modeli ile şeker hastalığı tahmin etme"
   ]
  },
  {
   "cell_type": "code",
   "execution_count": 57,
   "id": "b1adbbb3",
   "metadata": {},
   "outputs": [],
   "source": [
    "import pandas as pd\n",
    "import numpy as np\n",
    "import warnings\n",
    "warnings.filterwarnings('ignore')\n",
    "from sklearn.model_selection import train_test_split\n",
    "from sklearn.preprocessing import StandardScaler\n",
    "from sklearn.neighbors import KNeighborsClassifier\n",
    "from sklearn.metrics import accuracy_score, confusion_matrix, classification_report\n"
   ]
  },
  {
   "cell_type": "code",
   "execution_count": 58,
   "id": "564637fc",
   "metadata": {},
   "outputs": [],
   "source": [
    "# Veri yükleme\n",
    "data = pd.read_csv(\"diabetes.csv\")\n",
    "\n",
    "# X ve y belirleme\n",
    "X = data.drop(columns=[\"Outcome\"])  # Bağımsız değişkenler\n",
    "y = data[\"Outcome\"]  # Bağımlı değişken (0 veya 1 - Şeker hastalığı)\n",
    "\n",
    "# Veriyi eğitim ve test setlerine bölme\n",
    "X_train, X_test, y_train, y_test = train_test_split(X, y, test_size=0.2, random_state=42)\n"
   ]
  },
  {
   "cell_type": "code",
   "execution_count": 60,
   "id": "28f1554b",
   "metadata": {},
   "outputs": [],
   "source": [
    "# Standardizasyon\n",
    "scaler = StandardScaler()\n",
    "X_train = scaler.fit_transform(X_train)\n",
    "X_test = scaler.transform(X_test)\n"
   ]
  },
  {
   "cell_type": "code",
   "execution_count": 61,
   "id": "90c840bf",
   "metadata": {},
   "outputs": [
    {
     "data": {
      "text/plain": [
       "KNeighborsClassifier()"
      ]
     },
     "execution_count": 61,
     "metadata": {},
     "output_type": "execute_result"
    }
   ],
   "source": [
    "# KNN modelini oluştur\n",
    "knn = KNeighborsClassifier(n_neighbors=5)  # K = 5\n",
    "\n",
    "# Modeli eğit\n",
    "knn.fit(X_train, y_train)\n"
   ]
  },
  {
   "cell_type": "code",
   "execution_count": 62,
   "id": "54d0e5fb",
   "metadata": {},
   "outputs": [
    {
     "name": "stdout",
     "output_type": "stream",
     "text": [
      "Model Accuracy: 69.48%\n",
      "[[79 20]\n",
      " [27 28]]\n",
      "              precision    recall  f1-score   support\n",
      "\n",
      "           0       0.75      0.80      0.77        99\n",
      "           1       0.58      0.51      0.54        55\n",
      "\n",
      "    accuracy                           0.69       154\n",
      "   macro avg       0.66      0.65      0.66       154\n",
      "weighted avg       0.69      0.69      0.69       154\n",
      "\n"
     ]
    }
   ],
   "source": [
    "# Test seti üzerinde tahmin\n",
    "y_pred = knn.predict(X_test)\n",
    "\n",
    "# Modelin doğruluğunu hesapla\n",
    "accuracy = accuracy_score(y_test, y_pred)\n",
    "print(f\"Model Accuracy: {accuracy * 100:.2f}%\")\n",
    "\n",
    "# Confusion matrix ve classification report\n",
    "print(confusion_matrix(y_test, y_pred))\n",
    "print(classification_report(y_test, y_pred))\n"
   ]
  },
  {
   "cell_type": "code",
   "execution_count": 63,
   "id": "b8cd3f1e",
   "metadata": {},
   "outputs": [
    {
     "name": "stdout",
     "output_type": "stream",
     "text": [
      "En iyi K değeri: 18\n"
     ]
    }
   ],
   "source": [
    "# Farklı k değerlerini deneme\n",
    "accuracies = []\n",
    "for k in range(1, 21):\n",
    "    knn = KNeighborsClassifier(n_neighbors=k)\n",
    "    knn.fit(X_train, y_train)\n",
    "    y_pred_k = knn.predict(X_test)\n",
    "    accuracies.append(accuracy_score(y_test, y_pred_k))\n",
    "\n",
    "# En iyi k değerini bul\n",
    "best_k = accuracies.index(max(accuracies)) + 1\n",
    "print(f\"En iyi K değeri: {best_k}\")\n"
   ]
  },
  {
   "cell_type": "code",
   "execution_count": 64,
   "id": "0e830a2b",
   "metadata": {
    "scrolled": true
   },
   "outputs": [
    {
     "name": "stdout",
     "output_type": "stream",
     "text": [
      "BMI değerini girin: 23\n",
      "Glukoz seviyesini girin: 80\n",
      "Kan basıncını girin: 130\n",
      "Yaşınızı girin: 25\n",
      "Tahmin Sonucu: Şeker hastası değil\n"
     ]
    }
   ],
   "source": [
    "import numpy as np\n",
    "import pandas as pd\n",
    "from sklearn.neighbors import KNeighborsClassifier\n",
    "\n",
    "# Örnek eğitim verisi (x_ham_veri) oluştur\n",
    "x_ham_veri = np.array([[22, 85, 66, 30], [25, 70, 75, 35], [30, 90, 80, 40]])  # Eğitim verisi\n",
    "y_ham_veri = np.array([0, 1, 0])  # Sınıf etiketleri\n",
    "\n",
    "# KNN modelini kur ve eğit\n",
    "knn = KNeighborsClassifier(n_neighbors=3)\n",
    "knn.fit(x_ham_veri, y_ham_veri)\n",
    "\n",
    "# Kullanıcıdan veri al\n",
    "bmi = float(input(\"BMI değerini girin: \"))\n",
    "glucose = float(input(\"Glukoz seviyesini girin: \"))\n",
    "blood_pressure = float(input(\"Kan basıncını girin: \"))\n",
    "age = int(input(\"Yaşınızı girin: \"))\n",
    "\n",
    "# Kullanıcının girdiği verileri NumPy dizisine dönüştür\n",
    "yeni_veri = np.array([[bmi, glucose, blood_pressure, age]])\n",
    "\n",
    "# Veriyi normalize et\n",
    "# Burada x_ham_veri'nin min ve max değerlerini alıyoruz\n",
    "min_values = np.min(x_ham_veri, axis=0)\n",
    "max_values = np.max(x_ham_veri, axis=0)\n",
    "\n",
    "yeni_veri_normalized = (yeni_veri - min_values) / (max_values - min_values)\n",
    "\n",
    "# KNN modelimizi kullanarak tahmin yapalım\n",
    "tahmin = knn.predict(yeni_veri_normalized)\n",
    "print(\"Tahmin Sonucu:\", \"Şeker hastası\" if tahmin[0] == 1 else \"Şeker hastası değil\")\n"
   ]
  },
  {
   "cell_type": "code",
   "execution_count": null,
   "id": "a23d9a8d",
   "metadata": {},
   "outputs": [],
   "source": []
  }
 ],
 "metadata": {
  "kernelspec": {
   "display_name": "Python 3 (ipykernel)",
   "language": "python",
   "name": "python3"
  },
  "language_info": {
   "codemirror_mode": {
    "name": "ipython",
    "version": 3
   },
   "file_extension": ".py",
   "mimetype": "text/x-python",
   "name": "python",
   "nbconvert_exporter": "python",
   "pygments_lexer": "ipython3",
   "version": "3.9.13"
  }
 },
 "nbformat": 4,
 "nbformat_minor": 5
}
