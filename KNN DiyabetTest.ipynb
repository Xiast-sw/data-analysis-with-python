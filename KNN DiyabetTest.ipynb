{
 "cells": [
  {
   "cell_type": "markdown",
   "id": "beec88f2",
   "metadata": {},
   "source": [
    "Machine Learning modellerinden KNN modeli ile şeker hastalığı tahmin etme"
   ]
  },
  {
   "cell_type": "code",
   "execution_count": 53,
   "id": "b1adbbb3",
   "metadata": {},
   "outputs": [],
   "source": [
    "import pandas as pd\n",
    "import numpy as np\n",
    "import warnings\n",
    "warnings.filterwarnings('ignore')\n",
    "from sklearn.model_selection import train_test_split\n",
    "from sklearn.preprocessing import StandardScaler\n",
    "from sklearn.neighbors import KNeighborsClassifier\n",
    "from sklearn.metrics import accuracy_score, confusion_matrix, classification_report\n"
   ]
  },
  {
   "cell_type": "code",
   "execution_count": 54,
   "id": "564637fc",
   "metadata": {},
   "outputs": [],
   "source": [
    "# Veri yükleme\n",
    "data = pd.read_csv(\"diabetes.csv\")\n",
    "\n",
    "# X ve y belirleme\n",
    "X = data.drop(columns=[\"Outcome\"])  # Bağımsız değişkenler\n",
    "y = data[\"Outcome\"]  # Bağımlı değişken (0 veya 1 - Şeker hastalığı)\n",
    "\n",
    "# Veriyi eğitim ve test setlerine bölme\n",
    "X_train, X_test, y_train, y_test = train_test_split(X, y, test_size=0.2, random_state=42)\n"
   ]
  },
  {
   "cell_type": "code",
   "execution_count": 56,
   "id": "28f1554b",
   "metadata": {},
   "outputs": [
    {
     "ename": "AttributeError",
     "evalue": "'Series' object has no attribute 'reshape'",
     "output_type": "error",
     "traceback": [
      "\u001b[1;31m---------------------------------------------------------------------------\u001b[0m",
      "\u001b[1;31mAttributeError\u001b[0m                            Traceback (most recent call last)",
      "\u001b[1;32m~\\AppData\\Local\\Temp\\ipykernel_22492\\2664765092.py\u001b[0m in \u001b[0;36m<module>\u001b[1;34m\u001b[0m\n\u001b[0;32m      7\u001b[0m \u001b[1;33m\u001b[0m\u001b[0m\n\u001b[0;32m      8\u001b[0m \u001b[1;31m# Yeni veriyi normalize et\u001b[0m\u001b[1;33m\u001b[0m\u001b[1;33m\u001b[0m\u001b[0m\n\u001b[1;32m----> 9\u001b[1;33m \u001b[0myeni_veri_normalized\u001b[0m \u001b[1;33m=\u001b[0m \u001b[1;33m(\u001b[0m\u001b[0myeni_veri\u001b[0m \u001b[1;33m-\u001b[0m \u001b[0mmin_values\u001b[0m\u001b[1;33m.\u001b[0m\u001b[0mreshape\u001b[0m\u001b[1;33m(\u001b[0m\u001b[1;36m1\u001b[0m\u001b[1;33m,\u001b[0m \u001b[1;33m-\u001b[0m\u001b[1;36m1\u001b[0m\u001b[1;33m)\u001b[0m\u001b[1;33m)\u001b[0m \u001b[1;33m/\u001b[0m \u001b[1;33m(\u001b[0m\u001b[0mmax_values\u001b[0m\u001b[1;33m.\u001b[0m\u001b[0mreshape\u001b[0m\u001b[1;33m(\u001b[0m\u001b[1;36m1\u001b[0m\u001b[1;33m,\u001b[0m \u001b[1;33m-\u001b[0m\u001b[1;36m1\u001b[0m\u001b[1;33m)\u001b[0m \u001b[1;33m-\u001b[0m \u001b[0mmin_values\u001b[0m\u001b[1;33m.\u001b[0m\u001b[0mreshape\u001b[0m\u001b[1;33m(\u001b[0m\u001b[1;36m1\u001b[0m\u001b[1;33m,\u001b[0m \u001b[1;33m-\u001b[0m\u001b[1;36m1\u001b[0m\u001b[1;33m)\u001b[0m\u001b[1;33m)\u001b[0m\u001b[1;33m\u001b[0m\u001b[1;33m\u001b[0m\u001b[0m\n\u001b[0m",
      "\u001b[1;32m~\\anaconda3\\lib\\site-packages\\pandas\\core\\generic.py\u001b[0m in \u001b[0;36m__getattr__\u001b[1;34m(self, name)\u001b[0m\n\u001b[0;32m   5573\u001b[0m         ):\n\u001b[0;32m   5574\u001b[0m             \u001b[1;32mreturn\u001b[0m \u001b[0mself\u001b[0m\u001b[1;33m[\u001b[0m\u001b[0mname\u001b[0m\u001b[1;33m]\u001b[0m\u001b[1;33m\u001b[0m\u001b[1;33m\u001b[0m\u001b[0m\n\u001b[1;32m-> 5575\u001b[1;33m         \u001b[1;32mreturn\u001b[0m \u001b[0mobject\u001b[0m\u001b[1;33m.\u001b[0m\u001b[0m__getattribute__\u001b[0m\u001b[1;33m(\u001b[0m\u001b[0mself\u001b[0m\u001b[1;33m,\u001b[0m \u001b[0mname\u001b[0m\u001b[1;33m)\u001b[0m\u001b[1;33m\u001b[0m\u001b[1;33m\u001b[0m\u001b[0m\n\u001b[0m\u001b[0;32m   5576\u001b[0m \u001b[1;33m\u001b[0m\u001b[0m\n\u001b[0;32m   5577\u001b[0m     \u001b[1;32mdef\u001b[0m \u001b[0m__setattr__\u001b[0m\u001b[1;33m(\u001b[0m\u001b[0mself\u001b[0m\u001b[1;33m,\u001b[0m \u001b[0mname\u001b[0m\u001b[1;33m:\u001b[0m \u001b[0mstr\u001b[0m\u001b[1;33m,\u001b[0m \u001b[0mvalue\u001b[0m\u001b[1;33m)\u001b[0m \u001b[1;33m->\u001b[0m \u001b[1;32mNone\u001b[0m\u001b[1;33m:\u001b[0m\u001b[1;33m\u001b[0m\u001b[1;33m\u001b[0m\u001b[0m\n",
      "\u001b[1;31mAttributeError\u001b[0m: 'Series' object has no attribute 'reshape'"
     ]
    }
   ],
   "source": [
    "# Kullanıcının girdiği verileri NumPy dizisine dönüştür\n",
    "yeni_veri = np.array([[bmi, glucose, blood_pressure, age]])\n",
    "\n",
    "# Eğitim verisini kullanarak normalizasyon\n",
    "min_values = np.min(X_train, axis=0)\n",
    "max_values = np.max(X_train, axis=0)\n",
    "\n",
    "# Yeni veriyi normalize et\n",
    "yeni_veri_normalized = (yeni_veri - min_values.reshape(1, -1)) / (max_values.reshape(1, -1) - min_values.reshape(1, -1))\n"
   ]
  },
  {
   "cell_type": "code",
   "execution_count": null,
   "id": "90c840bf",
   "metadata": {},
   "outputs": [],
   "source": [
    "# KNN modelini oluştur\n",
    "knn = KNeighborsClassifier(n_neighbors=5)  # K = 5\n",
    "\n",
    "# Modeli eğit\n",
    "knn.fit(X_train, y_train)\n"
   ]
  },
  {
   "cell_type": "code",
   "execution_count": null,
   "id": "54d0e5fb",
   "metadata": {},
   "outputs": [],
   "source": [
    "# Test seti üzerinde tahmin\n",
    "y_pred = knn.predict(X_test)\n",
    "\n",
    "# Modelin doğruluğunu hesapla\n",
    "accuracy = accuracy_score(y_test, y_pred)\n",
    "print(f\"Model Accuracy: {accuracy * 100:.2f}%\")\n",
    "\n",
    "# Confusion matrix ve classification report\n",
    "print(confusion_matrix(y_test, y_pred))\n",
    "print(classification_report(y_test, y_pred))\n"
   ]
  },
  {
   "cell_type": "code",
   "execution_count": null,
   "id": "b8cd3f1e",
   "metadata": {},
   "outputs": [],
   "source": [
    "# Farklı k değerlerini deneme\n",
    "accuracies = []\n",
    "for k in range(1, 21):\n",
    "    knn = KNeighborsClassifier(n_neighbors=k)\n",
    "    knn.fit(X_train, y_train)\n",
    "    y_pred_k = knn.predict(X_test)\n",
    "    accuracies.append(accuracy_score(y_test, y_pred_k))\n",
    "\n",
    "# En iyi k değerini bul\n",
    "best_k = accuracies.index(max(accuracies)) + 1\n",
    "print(f\"En iyi K değeri: {best_k}\")\n"
   ]
  },
  {
   "cell_type": "code",
   "execution_count": null,
   "id": "0e830a2b",
   "metadata": {
    "scrolled": true
   },
   "outputs": [],
   "source": [
    "import numpy as np\n",
    "import pandas as pd\n",
    "from sklearn.neighbors import KNeighborsClassifier\n",
    "\n",
    "# Örnek eğitim verisi (x_ham_veri) oluştur\n",
    "x_ham_veri = np.array([[22, 85, 66, 30], [25, 70, 75, 35], [30, 90, 80, 40]])  # Eğitim verisi\n",
    "y_ham_veri = np.array([0, 1, 0])  # Sınıf etiketleri\n",
    "\n",
    "# KNN modelini kur ve eğit\n",
    "knn = KNeighborsClassifier(n_neighbors=3)\n",
    "knn.fit(x_ham_veri, y_ham_veri)\n",
    "\n",
    "# Kullanıcıdan veri al\n",
    "bmi = float(input(\"BMI değerini girin: \"))\n",
    "glucose = float(input(\"Glukoz seviyesini girin: \"))\n",
    "blood_pressure = float(input(\"Kan basıncını girin: \"))\n",
    "age = int(input(\"Yaşınızı girin: \"))\n",
    "\n",
    "# Kullanıcının girdiği verileri NumPy dizisine dönüştür\n",
    "yeni_veri = np.array([[bmi, glucose, blood_pressure, age]])\n",
    "\n",
    "# Veriyi normalize et\n",
    "# Burada x_ham_veri'nin min ve max değerlerini alıyoruz\n",
    "min_values = np.min(x_ham_veri, axis=0)\n",
    "max_values = np.max(x_ham_veri, axis=0)\n",
    "\n",
    "yeni_veri_normalized = (yeni_veri - min_values) / (max_values - min_values)\n",
    "\n",
    "# KNN modelimizi kullanarak tahmin yapalım\n",
    "tahmin = knn.predict(yeni_veri_normalized)\n",
    "print(\"Tahmin Sonucu:\", \"Şeker hastası\" if tahmin[0] == 1 else \"Şeker hastası değil\")\n"
   ]
  },
  {
   "cell_type": "code",
   "execution_count": null,
   "id": "83b8ec78",
   "metadata": {},
   "outputs": [],
   "source": []
  }
 ],
 "metadata": {
  "kernelspec": {
   "display_name": "Python 3 (ipykernel)",
   "language": "python",
   "name": "python3"
  },
  "language_info": {
   "codemirror_mode": {
    "name": "ipython",
    "version": 3
   },
   "file_extension": ".py",
   "mimetype": "text/x-python",
   "name": "python",
   "nbconvert_exporter": "python",
   "pygments_lexer": "ipython3",
   "version": "3.9.13"
  }
 },
 "nbformat": 4,
 "nbformat_minor": 5
}
